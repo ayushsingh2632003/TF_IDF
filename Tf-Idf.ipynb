{
 "cells": [
  {
   "cell_type": "code",
   "execution_count": 1,
   "id": "4c25a334",
   "metadata": {},
   "outputs": [
    {
     "name": "stderr",
     "output_type": "stream",
     "text": [
      "[nltk_data] Downloading package reuters to\n",
      "[nltk_data]     C:\\Users\\admin\\AppData\\Roaming\\nltk_data...\n",
      "[nltk_data]   Package reuters is already up-to-date!\n",
      "[nltk_data] Downloading package stopwords to\n",
      "[nltk_data]     C:\\Users\\admin\\AppData\\Roaming\\nltk_data...\n",
      "[nltk_data]   Package stopwords is already up-to-date!\n",
      "[nltk_data] Downloading package punkt to\n",
      "[nltk_data]     C:\\Users\\admin\\AppData\\Roaming\\nltk_data...\n",
      "[nltk_data]   Package punkt is already up-to-date!\n"
     ]
    },
    {
     "data": {
      "text/plain": [
       "True"
      ]
     },
     "execution_count": 1,
     "metadata": {},
     "output_type": "execute_result"
    }
   ],
   "source": [
    "import nltk\n",
    "import nltk\n",
    "nltk.download('reuters') # Downloading corpus\n",
    "nltk.download('stopwords') # Downloading stopwords\n",
    "nltk.download('punkt') # Downloading tokenizer"
   ]
  },
  {
   "cell_type": "code",
   "execution_count": 2,
   "id": "be4958b3",
   "metadata": {},
   "outputs": [],
   "source": [
    "from nltk.corpus import reuters  # name of corpus\n"
   ]
  },
  {
   "cell_type": "code",
   "execution_count": 3,
   "id": "4e0f3730",
   "metadata": {},
   "outputs": [
    {
     "name": "stdout",
     "output_type": "stream",
     "text": [
      "TOWN AND COUNTRY JEWELRY MANUFACTURING &lt;TCJC>\n",
      "  4thh qtr Feb 28\n",
      "      Shr 46 cts vs 22 cts\n",
      "      Net 2,139,034 vs 854,182\n",
      "      Sales 30.8 mln vs 20.6 mln\n",
      "      Avg shrs 5,280,854 vs 4,559,646\n",
      "      Year\n",
      "      Shr 1.34 dlrs vs 1.15 dlrs\n",
      "      Net 5,935,117 vs 4,156,171\n",
      "      Sales 107.2 mln vs 71.6 mln\n",
      "      Avg shrs 5,281,387 vs 3,616,183\n",
      "      NOTE: Town and Country Jewelry Manufacturing Corp.\n",
      "  \n",
      "\n",
      "\n"
     ]
    }
   ],
   "source": [
    "print(reuters.raw('test/15000')) # Example"
   ]
  },
  {
   "cell_type": "code",
   "execution_count": 4,
   "id": "b9eb3ecb",
   "metadata": {},
   "outputs": [],
   "source": [
    "from string import punctuation \n",
    "from nltk.corpus import stopwords\n",
    "from nltk.corpus import stopwords \n",
    "from nltk import word_tokenize\n",
    "\n",
    "\n",
    "stop_words = stopwords.words('english') + list(punctuation)\n",
    "\n",
    "\n",
    "def tokenize(text):\n",
    "    \n",
    "    words = word_tokenize(text)\n",
    "    \n",
    "    words = [w.lower() for w in words]\n",
    "    \n",
    "    return [w for w in words if w not in stop_words and not w.isdigit()]\n"
   ]
  },
  {
   "cell_type": "code",
   "execution_count": 5,
   "id": "8e448be2",
   "metadata": {},
   "outputs": [
    {
     "name": "stdout",
     "output_type": "stream",
     "text": [
      "51516 10788\n"
     ]
    }
   ],
   "source": [
    "# build the vocabulary in one pass\n",
    "vocabulary = set()\n",
    "for file_id in reuters.fileids():\n",
    "    words = tokenize(reuters.raw(file_id))\n",
    "    vocabulary.update(words)\n",
    " \n",
    "vocabulary = list(vocabulary)\n",
    "word_index = {w: index for index, w in enumerate(vocabulary)}\n",
    " \n",
    "VOCABULARY_SIZE = len(vocabulary)\n",
    "DOCUMENTS_COUNT = len(reuters.fileids())\n",
    " \n",
    "print(VOCABULARY_SIZE, DOCUMENTS_COUNT)"
   ]
  },
  {
   "cell_type": "code",
   "execution_count": 7,
   "id": "c262a9f0",
   "metadata": {},
   "outputs": [
    {
     "name": "stdout",
     "output_type": "stream",
     "text": [
      "6.88829441146125\n",
      "7.494430215031565\n",
      "2.1481166502152735\n"
     ]
    }
   ],
   "source": [
    "import numpy as np\n",
    "\n",
    "word_doc_count = np.zeros(VOCABULARY_SIZE)\n",
    "for file_id in reuters.fileids():\n",
    "    words = set(tokenize(reuters.raw(file_id)))\n",
    "    indexes = [word_index[word] for word in words]\n",
    "    word_doc_count[indexes] += 1.0\n",
    " \n",
    "word_idf = np.log(DOCUMENTS_COUNT / (1 + word_doc_count).astype(float))\n",
    "\n",
    "print(word_idf[word_index['town']])\n",
    "print(word_idf[word_index['jewelry']])\n",
    "print(word_idf[word_index['sales']])\n",
    "\n",
    "#iDf tells us whether the particular word is important or not for in corpus\n",
    "#if iDf high tells us that word has not much importance at all  \n",
    "\n"
   ]
  },
  {
   "cell_type": "code",
   "execution_count": 8,
   "id": "6595faae",
   "metadata": {},
   "outputs": [],
   "source": [
    "from six import  string_types"
   ]
  },
  {
   "cell_type": "code",
   "execution_count": 9,
   "id": "27f8a1e4",
   "metadata": {},
   "outputs": [],
   "source": [
    "def word_tf(word, document):\n",
    "    return float(document.count(word))/len(document); \n",
    "\n",
    "def tf_idf(word,document):\n",
    "    \n",
    "    document=tokenize(document)\n",
    "    \n",
    "    if word not  in word_index:\n",
    "        \n",
    "        return .0\n",
    "    \n",
    "    return word_tf(word,document) * word_idf[word_index[word]]"
   ]
  },
  {
   "cell_type": "code",
   "execution_count": 10,
   "id": "68d4ea19",
   "metadata": {},
   "outputs": [
    {
     "name": "stdout",
     "output_type": "stream",
     "text": [
      "0.26765822196541306\n"
     ]
    }
   ],
   "source": [
    "print(tf_idf('jewelry', reuters.raw('test/15000')))"
   ]
  },
  {
   "cell_type": "code",
   "execution_count": 11,
   "id": "6218917a",
   "metadata": {},
   "outputs": [
    {
     "name": "stderr",
     "output_type": "stream",
     "text": [
      "C:\\Users\\admin\\anaconda3\\Lib\\site-packages\\sklearn\\feature_extraction\\text.py:525: UserWarning: The parameter 'token_pattern' will not be used since 'tokenizer' is not None'\n",
      "  warnings.warn(\n",
      "C:\\Users\\admin\\anaconda3\\Lib\\site-packages\\sklearn\\feature_extraction\\text.py:408: UserWarning: Your stop_words may be inconsistent with your preprocessing. Tokenizing the stop words generated tokens [\"'d\", \"'ll\", \"'re\", \"'s\", \"'ve\", '``', 'could', 'might', 'must', \"n't\", 'need', 'sha', 'wo', 'would'] not in stop_words.\n",
      "  warnings.warn(\n"
     ]
    }
   ],
   "source": [
    "#tf idf using sklearn \n",
    "from sklearn.feature_extraction.text import TfidfVectorizer\n",
    "\n",
    "tfidf = TfidfVectorizer(stop_words=stop_words, tokenizer=tokenize, vocabulary=vocabulary)\n",
    " \n",
    "# Fit the TfIdf model\n",
    "tfidf.fit([reuters.raw(file_id) for file_id in reuters.fileids()])\n",
    " \n",
    "# Transform a document into TfIdf coordinates\n",
    "X = tfidf.transform([reuters.raw('test/15000')])\n",
    "\n",
    "\n"
   ]
  },
  {
   "cell_type": "code",
   "execution_count": 12,
   "id": "bd23f961",
   "metadata": {},
   "outputs": [
    {
     "name": "stdout",
     "output_type": "stream",
     "text": [
      "0.26765822196541306\n"
     ]
    }
   ],
   "source": [
    "print(tf_idf('jewelry', reuters.raw('test/15000')))"
   ]
  },
  {
   "cell_type": "code",
   "execution_count": null,
   "id": "b9ba3819",
   "metadata": {},
   "outputs": [],
   "source": []
  }
 ],
 "metadata": {
  "kernelspec": {
   "display_name": "Python 3 (ipykernel)",
   "language": "python",
   "name": "python3"
  },
  "language_info": {
   "codemirror_mode": {
    "name": "ipython",
    "version": 3
   },
   "file_extension": ".py",
   "mimetype": "text/x-python",
   "name": "python",
   "nbconvert_exporter": "python",
   "pygments_lexer": "ipython3",
   "version": "3.11.5"
  }
 },
 "nbformat": 4,
 "nbformat_minor": 5
}
